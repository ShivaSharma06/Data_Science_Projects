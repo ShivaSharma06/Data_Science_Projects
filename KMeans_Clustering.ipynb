{
 "cells": [
  {
   "cell_type": "markdown",
   "metadata": {},
   "source": [
    "## Text data Clustering "
   ]
  },
  {
   "cell_type": "code",
   "execution_count": 6,
   "metadata": {},
   "outputs": [
    {
     "name": "stdout",
     "output_type": "stream",
     "text": [
      "<class 'pandas.core.frame.DataFrame'>\n",
      "RangeIndex: 4803 entries, 0 to 4802\n",
      "Data columns (total 20 columns):\n",
      " #   Column                Non-Null Count  Dtype  \n",
      "---  ------                --------------  -----  \n",
      " 0   budget                4803 non-null   int64  \n",
      " 1   genres                4803 non-null   object \n",
      " 2   homepage              1712 non-null   object \n",
      " 3   id                    4803 non-null   int64  \n",
      " 4   keywords              4803 non-null   object \n",
      " 5   original_language     4803 non-null   object \n",
      " 6   original_title        4803 non-null   object \n",
      " 7   overview              4800 non-null   object \n",
      " 8   popularity            4803 non-null   float64\n",
      " 9   production_companies  4803 non-null   object \n",
      " 10  production_countries  4803 non-null   object \n",
      " 11  release_date          4802 non-null   object \n",
      " 12  revenue               4803 non-null   int64  \n",
      " 13  runtime               4801 non-null   float64\n",
      " 14  spoken_languages      4803 non-null   object \n",
      " 15  status                4803 non-null   object \n",
      " 16  tagline               3959 non-null   object \n",
      " 17  title                 4803 non-null   object \n",
      " 18  vote_average          4803 non-null   float64\n",
      " 19  vote_count            4803 non-null   int64  \n",
      "dtypes: float64(3), int64(4), object(13)\n",
      "memory usage: 750.6+ KB\n"
     ]
    }
   ],
   "source": [
    "import pandas as pd\n",
    "\n",
    "\n",
    "df = pd.read_csv(\"C:/Users/Surya/Desktop/Term 3/NLP/Classnote 18/5000_movies.csv\")\n",
    "df.info()\n",
    "\n",
    "#df = pd.read_csv(\"5000_movies.csv\")\n",
    "#df.info()\n",
    "\n",
    "#import pandas as pd\n",
    "\n",
    "# Load Excel file\n",
    "#df = pd.read_excel('file_path.xlsx')\n"
   ]
  },
  {
   "cell_type": "code",
   "execution_count": 7,
   "metadata": {},
   "outputs": [
    {
     "data": {
      "text/html": [
       "<div>\n",
       "<style scoped>\n",
       "    .dataframe tbody tr th:only-of-type {\n",
       "        vertical-align: middle;\n",
       "    }\n",
       "\n",
       "    .dataframe tbody tr th {\n",
       "        vertical-align: top;\n",
       "    }\n",
       "\n",
       "    .dataframe thead th {\n",
       "        text-align: right;\n",
       "    }\n",
       "</style>\n",
       "<table border=\"1\" class=\"dataframe\">\n",
       "  <thead>\n",
       "    <tr style=\"text-align: right;\">\n",
       "      <th></th>\n",
       "      <th>title</th>\n",
       "      <th>tagline</th>\n",
       "      <th>overview</th>\n",
       "      <th>genres</th>\n",
       "      <th>popularity</th>\n",
       "      <th>description</th>\n",
       "    </tr>\n",
       "  </thead>\n",
       "  <tbody>\n",
       "    <tr>\n",
       "      <th>0</th>\n",
       "      <td>Avatar</td>\n",
       "      <td>Enter the World of Pandora.</td>\n",
       "      <td>In the 22nd century, a paraplegic Marine is di...</td>\n",
       "      <td>[{\"id\": 28, \"name\": \"Action\"}, {\"id\": 12, \"nam...</td>\n",
       "      <td>150.437577</td>\n",
       "      <td>Enter the World of Pandora. In the 22nd centur...</td>\n",
       "    </tr>\n",
       "    <tr>\n",
       "      <th>1</th>\n",
       "      <td>Pirates of the Caribbean: At World's End</td>\n",
       "      <td>At the end of the world, the adventure begins.</td>\n",
       "      <td>Captain Barbossa, long believed to be dead, ha...</td>\n",
       "      <td>[{\"id\": 12, \"name\": \"Adventure\"}, {\"id\": 14, \"...</td>\n",
       "      <td>139.082615</td>\n",
       "      <td>At the end of the world, the adventure begins....</td>\n",
       "    </tr>\n",
       "    <tr>\n",
       "      <th>2</th>\n",
       "      <td>Spectre</td>\n",
       "      <td>A Plan No One Escapes</td>\n",
       "      <td>A cryptic message from Bond’s past sends him o...</td>\n",
       "      <td>[{\"id\": 28, \"name\": \"Action\"}, {\"id\": 12, \"nam...</td>\n",
       "      <td>107.376788</td>\n",
       "      <td>A Plan No One Escapes A cryptic message from B...</td>\n",
       "    </tr>\n",
       "    <tr>\n",
       "      <th>3</th>\n",
       "      <td>The Dark Knight Rises</td>\n",
       "      <td>The Legend Ends</td>\n",
       "      <td>Following the death of District Attorney Harve...</td>\n",
       "      <td>[{\"id\": 28, \"name\": \"Action\"}, {\"id\": 80, \"nam...</td>\n",
       "      <td>112.312950</td>\n",
       "      <td>The Legend Ends Following the death of Distric...</td>\n",
       "    </tr>\n",
       "    <tr>\n",
       "      <th>4</th>\n",
       "      <td>John Carter</td>\n",
       "      <td>Lost in our world, found in another.</td>\n",
       "      <td>John Carter is a war-weary, former military ca...</td>\n",
       "      <td>[{\"id\": 28, \"name\": \"Action\"}, {\"id\": 12, \"nam...</td>\n",
       "      <td>43.926995</td>\n",
       "      <td>Lost in our world, found in another. John Cart...</td>\n",
       "    </tr>\n",
       "    <tr>\n",
       "      <th>5</th>\n",
       "      <td>Spider-Man 3</td>\n",
       "      <td>The battle within.</td>\n",
       "      <td>The seemingly invincible Spider-Man goes up ag...</td>\n",
       "      <td>[{\"id\": 14, \"name\": \"Fantasy\"}, {\"id\": 28, \"na...</td>\n",
       "      <td>115.699814</td>\n",
       "      <td>The battle within. The seemingly invincible Sp...</td>\n",
       "    </tr>\n",
       "    <tr>\n",
       "      <th>6</th>\n",
       "      <td>Tangled</td>\n",
       "      <td>They're taking adventure to new lengths.</td>\n",
       "      <td>When the kingdom's most wanted-and most charmi...</td>\n",
       "      <td>[{\"id\": 16, \"name\": \"Animation\"}, {\"id\": 10751...</td>\n",
       "      <td>48.681969</td>\n",
       "      <td>They're taking adventure to new lengths. When ...</td>\n",
       "    </tr>\n",
       "    <tr>\n",
       "      <th>7</th>\n",
       "      <td>Avengers: Age of Ultron</td>\n",
       "      <td>A New Age Has Come.</td>\n",
       "      <td>When Tony Stark tries to jumpstart a dormant p...</td>\n",
       "      <td>[{\"id\": 28, \"name\": \"Action\"}, {\"id\": 12, \"nam...</td>\n",
       "      <td>134.279229</td>\n",
       "      <td>A New Age Has Come. When Tony Stark tries to j...</td>\n",
       "    </tr>\n",
       "    <tr>\n",
       "      <th>8</th>\n",
       "      <td>Harry Potter and the Half-Blood Prince</td>\n",
       "      <td>Dark Secrets Revealed</td>\n",
       "      <td>As Harry begins his sixth year at Hogwarts, he...</td>\n",
       "      <td>[{\"id\": 12, \"name\": \"Adventure\"}, {\"id\": 14, \"...</td>\n",
       "      <td>98.885637</td>\n",
       "      <td>Dark Secrets Revealed As Harry begins his sixt...</td>\n",
       "    </tr>\n",
       "    <tr>\n",
       "      <th>9</th>\n",
       "      <td>Batman v Superman: Dawn of Justice</td>\n",
       "      <td>Justice or revenge</td>\n",
       "      <td>Fearing the actions of a god-like Super Hero l...</td>\n",
       "      <td>[{\"id\": 28, \"name\": \"Action\"}, {\"id\": 12, \"nam...</td>\n",
       "      <td>155.790452</td>\n",
       "      <td>Justice or revenge Fearing the actions of a go...</td>\n",
       "    </tr>\n",
       "  </tbody>\n",
       "</table>\n",
       "</div>"
      ],
      "text/plain": [
       "                                      title  \\\n",
       "0                                    Avatar   \n",
       "1  Pirates of the Caribbean: At World's End   \n",
       "2                                   Spectre   \n",
       "3                     The Dark Knight Rises   \n",
       "4                               John Carter   \n",
       "5                              Spider-Man 3   \n",
       "6                                   Tangled   \n",
       "7                   Avengers: Age of Ultron   \n",
       "8    Harry Potter and the Half-Blood Prince   \n",
       "9        Batman v Superman: Dawn of Justice   \n",
       "\n",
       "                                          tagline  \\\n",
       "0                     Enter the World of Pandora.   \n",
       "1  At the end of the world, the adventure begins.   \n",
       "2                           A Plan No One Escapes   \n",
       "3                                 The Legend Ends   \n",
       "4            Lost in our world, found in another.   \n",
       "5                              The battle within.   \n",
       "6        They're taking adventure to new lengths.   \n",
       "7                             A New Age Has Come.   \n",
       "8                           Dark Secrets Revealed   \n",
       "9                              Justice or revenge   \n",
       "\n",
       "                                            overview  \\\n",
       "0  In the 22nd century, a paraplegic Marine is di...   \n",
       "1  Captain Barbossa, long believed to be dead, ha...   \n",
       "2  A cryptic message from Bond’s past sends him o...   \n",
       "3  Following the death of District Attorney Harve...   \n",
       "4  John Carter is a war-weary, former military ca...   \n",
       "5  The seemingly invincible Spider-Man goes up ag...   \n",
       "6  When the kingdom's most wanted-and most charmi...   \n",
       "7  When Tony Stark tries to jumpstart a dormant p...   \n",
       "8  As Harry begins his sixth year at Hogwarts, he...   \n",
       "9  Fearing the actions of a god-like Super Hero l...   \n",
       "\n",
       "                                              genres  popularity  \\\n",
       "0  [{\"id\": 28, \"name\": \"Action\"}, {\"id\": 12, \"nam...  150.437577   \n",
       "1  [{\"id\": 12, \"name\": \"Adventure\"}, {\"id\": 14, \"...  139.082615   \n",
       "2  [{\"id\": 28, \"name\": \"Action\"}, {\"id\": 12, \"nam...  107.376788   \n",
       "3  [{\"id\": 28, \"name\": \"Action\"}, {\"id\": 80, \"nam...  112.312950   \n",
       "4  [{\"id\": 28, \"name\": \"Action\"}, {\"id\": 12, \"nam...   43.926995   \n",
       "5  [{\"id\": 14, \"name\": \"Fantasy\"}, {\"id\": 28, \"na...  115.699814   \n",
       "6  [{\"id\": 16, \"name\": \"Animation\"}, {\"id\": 10751...   48.681969   \n",
       "7  [{\"id\": 28, \"name\": \"Action\"}, {\"id\": 12, \"nam...  134.279229   \n",
       "8  [{\"id\": 12, \"name\": \"Adventure\"}, {\"id\": 14, \"...   98.885637   \n",
       "9  [{\"id\": 28, \"name\": \"Action\"}, {\"id\": 12, \"nam...  155.790452   \n",
       "\n",
       "                                         description  \n",
       "0  Enter the World of Pandora. In the 22nd centur...  \n",
       "1  At the end of the world, the adventure begins....  \n",
       "2  A Plan No One Escapes A cryptic message from B...  \n",
       "3  The Legend Ends Following the death of Distric...  \n",
       "4  Lost in our world, found in another. John Cart...  \n",
       "5  The battle within. The seemingly invincible Sp...  \n",
       "6  They're taking adventure to new lengths. When ...  \n",
       "7  A New Age Has Come. When Tony Stark tries to j...  \n",
       "8  Dark Secrets Revealed As Harry begins his sixt...  \n",
       "9  Justice or revenge Fearing the actions of a go...  "
      ]
     },
     "execution_count": 7,
     "metadata": {},
     "output_type": "execute_result"
    }
   ],
   "source": [
    "df = df[['title', 'tagline', 'overview', 'genres', 'popularity']]\n",
    "df.tagline.fillna('', inplace=True)\n",
    "df['description'] = df['tagline'].map(str) + ' ' + df['overview'].map(str)\n",
    "df.dropna(inplace=True)\n",
    "df.head(10)"
   ]
  },
  {
   "cell_type": "code",
   "execution_count": 8,
   "metadata": {},
   "outputs": [
    {
     "data": {
      "text/plain": [
       "(4800, 6)"
      ]
     },
     "execution_count": 8,
     "metadata": {},
     "output_type": "execute_result"
    }
   ],
   "source": [
    "df.shape"
   ]
  },
  {
   "cell_type": "markdown",
   "metadata": {},
   "source": [
    "### Text pre-processing"
   ]
  },
  {
   "cell_type": "code",
   "execution_count": 9,
   "metadata": {},
   "outputs": [
    {
     "data": {
      "text/plain": [
       "array(['enter world pandora 22nd century paraplegic marine dispatched moon pandora unique mission becomes torn following orders protecting alien civilization',\n",
       "       'end world adventure begins captain barbossa long believed dead come back life headed edge earth turner elizabeth swann nothing quite seems',\n",
       "       'plan one escapes cryptic message bonds past sends trail uncover sinister organization battles political forces keep secret service alive bond peels back layers deceit reveal terrible truth behind spectre',\n",
       "       ...,\n",
       "       'signed sealed delivered introduces dedicated quartet civil servants dead letter office us postal system transform elite team lostmail detectives determination deliver seemingly undeliverable takes post office unpredictable world letters packages past save lives solve crimes reunite old loves change futures arriving late always miraculously time',\n",
       "       'new yorker shanghai ambitious new york attorney sam sent shanghai assignment immediately stumbles legal mess could end career help beautiful relocation specialist wellconnected oldtimer clever journalist streetsmart legal assistant sam might save job find romance learn appreciate beauty wonders shanghai written anonymous imdbcom',\n",
       "       'ever since second grade first saw et extraterrestrial brian herzlinger crush drew barrymore 20 years later hes decided try fulfill lifelong dream asking date theres one small problem shes drew barrymore hes well brian herzlinger broke 27yearold aspiring filmmaker new jersey'],\n",
       "      dtype='<U803')"
      ]
     },
     "execution_count": 9,
     "metadata": {},
     "output_type": "execute_result"
    }
   ],
   "source": [
    "import nltk\n",
    "import re\n",
    "import numpy as np\n",
    "\n",
    "stop_words = nltk.corpus.stopwords.words('english')\n",
    "\n",
    "def normalize_document(doc):\n",
    "    # lower case and remove special characters\\whitespaces\n",
    "    doc = re.sub(r'[^a-zA-Z0-9\\s]', '', doc)\n",
    "    doc = doc.lower()\n",
    "    doc = doc.strip()\n",
    "    # tokenize document\n",
    "    tokens = nltk.word_tokenize(doc)\n",
    "    # filter stopwords out of document\n",
    "    filtered_tokens = [token for token in tokens if token not in stop_words]\n",
    "    # re-create document from filtered tokens\n",
    "    doc = ' '.join(filtered_tokens)\n",
    "    return doc\n",
    "\n",
    "normalize_corpus = np.vectorize(normalize_document)\n",
    "\n",
    "norm_corpus = normalize_corpus(list(df['description']))\n",
    "norm_corpus\n"
   ]
  },
  {
   "cell_type": "code",
   "execution_count": 13,
   "metadata": {},
   "outputs": [
    {
     "name": "stdout",
     "output_type": "stream",
     "text": [
      "[ 1  4  9 16]\n"
     ]
    }
   ],
   "source": [
    "# for example \n",
    "def func(n):\n",
    "    return n*n\n",
    "\n",
    "normalize = np.vectorize(func)\n",
    "\n",
    "norm = normalize([1,2,3,4])\n",
    "print(norm)"
   ]
  },
  {
   "cell_type": "markdown",
   "metadata": {},
   "source": [
    "### Use CountVectorizer to vectorize the text"
   ]
  },
  {
   "cell_type": "code",
   "execution_count": 14,
   "metadata": {},
   "outputs": [
    {
     "data": {
      "text/plain": [
       "(4800, 1466)"
      ]
     },
     "execution_count": 14,
     "metadata": {},
     "output_type": "execute_result"
    }
   ],
   "source": [
    "from sklearn.feature_extraction.text import CountVectorizer\n",
    "\n",
    "cv = CountVectorizer(ngram_range=(1, 2), min_df=20, max_df=0.8)\n",
    "cv_matrix = cv.fit_transform(norm_corpus)\n",
    "cv_matrix.shape"
   ]
  },
  {
   "cell_type": "markdown",
   "metadata": {},
   "source": [
    "from sklearn.feature_extraction.text import CountVectorizer: This line imports the CountVectorizer class from scikit-learn, which is used to convert text data into numerical feature representations.\n",
    "\n",
    "cv = CountVectorizer(ngram_range=(1, 2), min_df=20, max_df=0.8): Here, we create a CountVectorizer object named cv. Key parameters are:\n",
    "\n",
    "ngram_range=(1, 2): Includes both single words (unigrams) and pairs of adjacent words (bigrams) in the feature matrix.\n",
    "min_df=20: Terms appearing in fewer than 20 documents are excluded from the vocabulary.\n",
    "max_df=0.8: Terms occurring in more than 80% of the documents are excluded.\n",
    "cv_matrix = cv.fit_transform(norm_corpus): This line transforms the normalized text corpus (norm_corpus) into a document-term matrix using the CountVectorizer object (cv). Each row represents a document, and each column represents a term, with the cell value indicating the frequency of the term in the document.\n",
    "\n",
    "cv_matrix.shape: This line prints the shape of the resulting document-term matrix, showing the number of documents and the number of unique terms (words or n-grams) in the corpus.\n",
    "\n",
    "\n",
    "\n",
    "\n",
    "\n"
   ]
  },
  {
   "cell_type": "code",
   "execution_count": 15,
   "metadata": {},
   "outputs": [
    {
     "name": "stdout",
     "output_type": "stream",
     "text": [
      "{'an': 0, 'apple': 2, 'day': 4, 'doctor': 6, 'an apple': 1, 'apple day': 3, 'day doctor': 5}\n"
     ]
    }
   ],
   "source": [
    "# for example\n",
    "v = CountVectorizer(ngram_range=(1, 2))\n",
    "print(v.fit([\"an apple day doctor\"]).vocabulary_)"
   ]
  },
  {
   "cell_type": "markdown",
   "metadata": {},
   "source": [
    "### Cluster Movies using K-Means"
   ]
  },
  {
   "cell_type": "code",
   "execution_count": 16,
   "metadata": {},
   "outputs": [
    {
     "data": {
      "text/html": [
       "<style>#sk-container-id-1 {color: black;background-color: white;}#sk-container-id-1 pre{padding: 0;}#sk-container-id-1 div.sk-toggleable {background-color: white;}#sk-container-id-1 label.sk-toggleable__label {cursor: pointer;display: block;width: 100%;margin-bottom: 0;padding: 0.3em;box-sizing: border-box;text-align: center;}#sk-container-id-1 label.sk-toggleable__label-arrow:before {content: \"▸\";float: left;margin-right: 0.25em;color: #696969;}#sk-container-id-1 label.sk-toggleable__label-arrow:hover:before {color: black;}#sk-container-id-1 div.sk-estimator:hover label.sk-toggleable__label-arrow:before {color: black;}#sk-container-id-1 div.sk-toggleable__content {max-height: 0;max-width: 0;overflow: hidden;text-align: left;background-color: #f0f8ff;}#sk-container-id-1 div.sk-toggleable__content pre {margin: 0.2em;color: black;border-radius: 0.25em;background-color: #f0f8ff;}#sk-container-id-1 input.sk-toggleable__control:checked~div.sk-toggleable__content {max-height: 200px;max-width: 100%;overflow: auto;}#sk-container-id-1 input.sk-toggleable__control:checked~label.sk-toggleable__label-arrow:before {content: \"▾\";}#sk-container-id-1 div.sk-estimator input.sk-toggleable__control:checked~label.sk-toggleable__label {background-color: #d4ebff;}#sk-container-id-1 div.sk-label input.sk-toggleable__control:checked~label.sk-toggleable__label {background-color: #d4ebff;}#sk-container-id-1 input.sk-hidden--visually {border: 0;clip: rect(1px 1px 1px 1px);clip: rect(1px, 1px, 1px, 1px);height: 1px;margin: -1px;overflow: hidden;padding: 0;position: absolute;width: 1px;}#sk-container-id-1 div.sk-estimator {font-family: monospace;background-color: #f0f8ff;border: 1px dotted black;border-radius: 0.25em;box-sizing: border-box;margin-bottom: 0.5em;}#sk-container-id-1 div.sk-estimator:hover {background-color: #d4ebff;}#sk-container-id-1 div.sk-parallel-item::after {content: \"\";width: 100%;border-bottom: 1px solid gray;flex-grow: 1;}#sk-container-id-1 div.sk-label:hover label.sk-toggleable__label {background-color: #d4ebff;}#sk-container-id-1 div.sk-serial::before {content: \"\";position: absolute;border-left: 1px solid gray;box-sizing: border-box;top: 0;bottom: 0;left: 50%;z-index: 0;}#sk-container-id-1 div.sk-serial {display: flex;flex-direction: column;align-items: center;background-color: white;padding-right: 0.2em;padding-left: 0.2em;position: relative;}#sk-container-id-1 div.sk-item {position: relative;z-index: 1;}#sk-container-id-1 div.sk-parallel {display: flex;align-items: stretch;justify-content: center;background-color: white;position: relative;}#sk-container-id-1 div.sk-item::before, #sk-container-id-1 div.sk-parallel-item::before {content: \"\";position: absolute;border-left: 1px solid gray;box-sizing: border-box;top: 0;bottom: 0;left: 50%;z-index: -1;}#sk-container-id-1 div.sk-parallel-item {display: flex;flex-direction: column;z-index: 1;position: relative;background-color: white;}#sk-container-id-1 div.sk-parallel-item:first-child::after {align-self: flex-end;width: 50%;}#sk-container-id-1 div.sk-parallel-item:last-child::after {align-self: flex-start;width: 50%;}#sk-container-id-1 div.sk-parallel-item:only-child::after {width: 0;}#sk-container-id-1 div.sk-dashed-wrapped {border: 1px dashed gray;margin: 0 0.4em 0.5em 0.4em;box-sizing: border-box;padding-bottom: 0.4em;background-color: white;}#sk-container-id-1 div.sk-label label {font-family: monospace;font-weight: bold;display: inline-block;line-height: 1.2em;}#sk-container-id-1 div.sk-label-container {text-align: center;}#sk-container-id-1 div.sk-container {/* jupyter's `normalize.less` sets `[hidden] { display: none; }` but bootstrap.min.css set `[hidden] { display: none !important; }` so we also need the `!important` here to be able to override the default hidden behavior on the sphinx rendered scikit-learn.org. See: https://github.com/scikit-learn/scikit-learn/issues/21755 */display: inline-block !important;position: relative;}#sk-container-id-1 div.sk-text-repr-fallback {display: none;}</style><div id=\"sk-container-id-1\" class=\"sk-top-container\"><div class=\"sk-text-repr-fallback\"><pre>KMeans(max_iter=100, n_clusters=6, n_init=15, random_state=42)</pre><b>In a Jupyter environment, please rerun this cell to show the HTML representation or trust the notebook. <br />On GitHub, the HTML representation is unable to render, please try loading this page with nbviewer.org.</b></div><div class=\"sk-container\" hidden><div class=\"sk-item\"><div class=\"sk-estimator sk-toggleable\"><input class=\"sk-toggleable__control sk-hidden--visually\" id=\"sk-estimator-id-1\" type=\"checkbox\" checked><label for=\"sk-estimator-id-1\" class=\"sk-toggleable__label sk-toggleable__label-arrow\">KMeans</label><div class=\"sk-toggleable__content\"><pre>KMeans(max_iter=100, n_clusters=6, n_init=15, random_state=42)</pre></div></div></div></div></div>"
      ],
      "text/plain": [
       "KMeans(max_iter=100, n_clusters=6, n_init=15, random_state=42)"
      ]
     },
     "execution_count": 16,
     "metadata": {},
     "output_type": "execute_result"
    }
   ],
   "source": [
    "from sklearn.cluster import KMeans\n",
    "\n",
    "# Let us build the first model \n",
    "NUM_CLUSTERS = 6\n",
    "km1 = KMeans(n_clusters=NUM_CLUSTERS, max_iter=100, n_init=15, random_state=42).fit(cv_matrix)\n",
    "km1"
   ]
  },
  {
   "cell_type": "code",
   "execution_count": 17,
   "metadata": {},
   "outputs": [
    {
     "data": {
      "text/plain": [
       "Counter({4: 2868, 5: 634, 1: 674, 2: 229, 0: 393, 3: 2})"
      ]
     },
     "execution_count": 17,
     "metadata": {},
     "output_type": "execute_result"
    }
   ],
   "source": [
    "from collections import Counter\n",
    "\n",
    "Counter(km1.labels_)\n"
   ]
  },
  {
   "cell_type": "code",
   "execution_count": 18,
   "metadata": {},
   "outputs": [
    {
     "data": {
      "text/html": [
       "<div>\n",
       "<style scoped>\n",
       "    .dataframe tbody tr th:only-of-type {\n",
       "        vertical-align: middle;\n",
       "    }\n",
       "\n",
       "    .dataframe tbody tr th {\n",
       "        vertical-align: top;\n",
       "    }\n",
       "\n",
       "    .dataframe thead th {\n",
       "        text-align: right;\n",
       "    }\n",
       "</style>\n",
       "<table border=\"1\" class=\"dataframe\">\n",
       "  <thead>\n",
       "    <tr style=\"text-align: right;\">\n",
       "      <th></th>\n",
       "      <th>title</th>\n",
       "      <th>tagline</th>\n",
       "      <th>overview</th>\n",
       "      <th>genres</th>\n",
       "      <th>popularity</th>\n",
       "      <th>description</th>\n",
       "      <th>kmeans_cluster</th>\n",
       "    </tr>\n",
       "  </thead>\n",
       "  <tbody>\n",
       "    <tr>\n",
       "      <th>0</th>\n",
       "      <td>Avatar</td>\n",
       "      <td>Enter the World of Pandora.</td>\n",
       "      <td>In the 22nd century, a paraplegic Marine is di...</td>\n",
       "      <td>[{\"id\": 28, \"name\": \"Action\"}, {\"id\": 12, \"nam...</td>\n",
       "      <td>150.437577</td>\n",
       "      <td>Enter the World of Pandora. In the 22nd centur...</td>\n",
       "      <td>4</td>\n",
       "    </tr>\n",
       "    <tr>\n",
       "      <th>1</th>\n",
       "      <td>Pirates of the Caribbean: At World's End</td>\n",
       "      <td>At the end of the world, the adventure begins.</td>\n",
       "      <td>Captain Barbossa, long believed to be dead, ha...</td>\n",
       "      <td>[{\"id\": 12, \"name\": \"Adventure\"}, {\"id\": 14, \"...</td>\n",
       "      <td>139.082615</td>\n",
       "      <td>At the end of the world, the adventure begins....</td>\n",
       "      <td>5</td>\n",
       "    </tr>\n",
       "    <tr>\n",
       "      <th>2</th>\n",
       "      <td>Spectre</td>\n",
       "      <td>A Plan No One Escapes</td>\n",
       "      <td>A cryptic message from Bond’s past sends him o...</td>\n",
       "      <td>[{\"id\": 28, \"name\": \"Action\"}, {\"id\": 12, \"nam...</td>\n",
       "      <td>107.376788</td>\n",
       "      <td>A Plan No One Escapes A cryptic message from B...</td>\n",
       "      <td>1</td>\n",
       "    </tr>\n",
       "    <tr>\n",
       "      <th>3</th>\n",
       "      <td>The Dark Knight Rises</td>\n",
       "      <td>The Legend Ends</td>\n",
       "      <td>Following the death of District Attorney Harve...</td>\n",
       "      <td>[{\"id\": 28, \"name\": \"Action\"}, {\"id\": 80, \"nam...</td>\n",
       "      <td>112.312950</td>\n",
       "      <td>The Legend Ends Following the death of Distric...</td>\n",
       "      <td>2</td>\n",
       "    </tr>\n",
       "    <tr>\n",
       "      <th>4</th>\n",
       "      <td>John Carter</td>\n",
       "      <td>Lost in our world, found in another.</td>\n",
       "      <td>John Carter is a war-weary, former military ca...</td>\n",
       "      <td>[{\"id\": 28, \"name\": \"Action\"}, {\"id\": 12, \"nam...</td>\n",
       "      <td>43.926995</td>\n",
       "      <td>Lost in our world, found in another. John Cart...</td>\n",
       "      <td>4</td>\n",
       "    </tr>\n",
       "    <tr>\n",
       "      <th>5</th>\n",
       "      <td>Spider-Man 3</td>\n",
       "      <td>The battle within.</td>\n",
       "      <td>The seemingly invincible Spider-Man goes up ag...</td>\n",
       "      <td>[{\"id\": 14, \"name\": \"Fantasy\"}, {\"id\": 28, \"na...</td>\n",
       "      <td>115.699814</td>\n",
       "      <td>The battle within. The seemingly invincible Sp...</td>\n",
       "      <td>4</td>\n",
       "    </tr>\n",
       "    <tr>\n",
       "      <th>6</th>\n",
       "      <td>Tangled</td>\n",
       "      <td>They're taking adventure to new lengths.</td>\n",
       "      <td>When the kingdom's most wanted-and most charmi...</td>\n",
       "      <td>[{\"id\": 16, \"name\": \"Animation\"}, {\"id\": 10751...</td>\n",
       "      <td>48.681969</td>\n",
       "      <td>They're taking adventure to new lengths. When ...</td>\n",
       "      <td>4</td>\n",
       "    </tr>\n",
       "    <tr>\n",
       "      <th>7</th>\n",
       "      <td>Avengers: Age of Ultron</td>\n",
       "      <td>A New Age Has Come.</td>\n",
       "      <td>When Tony Stark tries to jumpstart a dormant p...</td>\n",
       "      <td>[{\"id\": 28, \"name\": \"Action\"}, {\"id\": 12, \"nam...</td>\n",
       "      <td>134.279229</td>\n",
       "      <td>A New Age Has Come. When Tony Stark tries to j...</td>\n",
       "      <td>4</td>\n",
       "    </tr>\n",
       "    <tr>\n",
       "      <th>8</th>\n",
       "      <td>Harry Potter and the Half-Blood Prince</td>\n",
       "      <td>Dark Secrets Revealed</td>\n",
       "      <td>As Harry begins his sixth year at Hogwarts, he...</td>\n",
       "      <td>[{\"id\": 12, \"name\": \"Adventure\"}, {\"id\": 14, \"...</td>\n",
       "      <td>98.885637</td>\n",
       "      <td>Dark Secrets Revealed As Harry begins his sixt...</td>\n",
       "      <td>4</td>\n",
       "    </tr>\n",
       "    <tr>\n",
       "      <th>9</th>\n",
       "      <td>Batman v Superman: Dawn of Justice</td>\n",
       "      <td>Justice or revenge</td>\n",
       "      <td>Fearing the actions of a god-like Super Hero l...</td>\n",
       "      <td>[{\"id\": 28, \"name\": \"Action\"}, {\"id\": 12, \"nam...</td>\n",
       "      <td>155.790452</td>\n",
       "      <td>Justice or revenge Fearing the actions of a go...</td>\n",
       "      <td>1</td>\n",
       "    </tr>\n",
       "  </tbody>\n",
       "</table>\n",
       "</div>"
      ],
      "text/plain": [
       "                                      title  \\\n",
       "0                                    Avatar   \n",
       "1  Pirates of the Caribbean: At World's End   \n",
       "2                                   Spectre   \n",
       "3                     The Dark Knight Rises   \n",
       "4                               John Carter   \n",
       "5                              Spider-Man 3   \n",
       "6                                   Tangled   \n",
       "7                   Avengers: Age of Ultron   \n",
       "8    Harry Potter and the Half-Blood Prince   \n",
       "9        Batman v Superman: Dawn of Justice   \n",
       "\n",
       "                                          tagline  \\\n",
       "0                     Enter the World of Pandora.   \n",
       "1  At the end of the world, the adventure begins.   \n",
       "2                           A Plan No One Escapes   \n",
       "3                                 The Legend Ends   \n",
       "4            Lost in our world, found in another.   \n",
       "5                              The battle within.   \n",
       "6        They're taking adventure to new lengths.   \n",
       "7                             A New Age Has Come.   \n",
       "8                           Dark Secrets Revealed   \n",
       "9                              Justice or revenge   \n",
       "\n",
       "                                            overview  \\\n",
       "0  In the 22nd century, a paraplegic Marine is di...   \n",
       "1  Captain Barbossa, long believed to be dead, ha...   \n",
       "2  A cryptic message from Bond’s past sends him o...   \n",
       "3  Following the death of District Attorney Harve...   \n",
       "4  John Carter is a war-weary, former military ca...   \n",
       "5  The seemingly invincible Spider-Man goes up ag...   \n",
       "6  When the kingdom's most wanted-and most charmi...   \n",
       "7  When Tony Stark tries to jumpstart a dormant p...   \n",
       "8  As Harry begins his sixth year at Hogwarts, he...   \n",
       "9  Fearing the actions of a god-like Super Hero l...   \n",
       "\n",
       "                                              genres  popularity  \\\n",
       "0  [{\"id\": 28, \"name\": \"Action\"}, {\"id\": 12, \"nam...  150.437577   \n",
       "1  [{\"id\": 12, \"name\": \"Adventure\"}, {\"id\": 14, \"...  139.082615   \n",
       "2  [{\"id\": 28, \"name\": \"Action\"}, {\"id\": 12, \"nam...  107.376788   \n",
       "3  [{\"id\": 28, \"name\": \"Action\"}, {\"id\": 80, \"nam...  112.312950   \n",
       "4  [{\"id\": 28, \"name\": \"Action\"}, {\"id\": 12, \"nam...   43.926995   \n",
       "5  [{\"id\": 14, \"name\": \"Fantasy\"}, {\"id\": 28, \"na...  115.699814   \n",
       "6  [{\"id\": 16, \"name\": \"Animation\"}, {\"id\": 10751...   48.681969   \n",
       "7  [{\"id\": 28, \"name\": \"Action\"}, {\"id\": 12, \"nam...  134.279229   \n",
       "8  [{\"id\": 12, \"name\": \"Adventure\"}, {\"id\": 14, \"...   98.885637   \n",
       "9  [{\"id\": 28, \"name\": \"Action\"}, {\"id\": 12, \"nam...  155.790452   \n",
       "\n",
       "                                         description  kmeans_cluster  \n",
       "0  Enter the World of Pandora. In the 22nd centur...               4  \n",
       "1  At the end of the world, the adventure begins....               5  \n",
       "2  A Plan No One Escapes A cryptic message from B...               1  \n",
       "3  The Legend Ends Following the death of Distric...               2  \n",
       "4  Lost in our world, found in another. John Cart...               4  \n",
       "5  The battle within. The seemingly invincible Sp...               4  \n",
       "6  They're taking adventure to new lengths. When ...               4  \n",
       "7  A New Age Has Come. When Tony Stark tries to j...               4  \n",
       "8  Dark Secrets Revealed As Harry begins his sixt...               4  \n",
       "9  Justice or revenge Fearing the actions of a go...               1  "
      ]
     },
     "execution_count": 18,
     "metadata": {},
     "output_type": "execute_result"
    }
   ],
   "source": [
    "# Adding Cluster levels in the original dataframe \n",
    "df['kmeans_cluster'] = km1.labels_\n",
    "df.head(10)"
   ]
  },
  {
   "cell_type": "code",
   "execution_count": 19,
   "metadata": {},
   "outputs": [
    {
     "data": {
      "text/html": [
       "<div>\n",
       "<style scoped>\n",
       "    .dataframe tbody tr th:only-of-type {\n",
       "        vertical-align: middle;\n",
       "    }\n",
       "\n",
       "    .dataframe tbody tr th {\n",
       "        vertical-align: top;\n",
       "    }\n",
       "\n",
       "    .dataframe thead th {\n",
       "        text-align: right;\n",
       "    }\n",
       "</style>\n",
       "<table border=\"1\" class=\"dataframe\">\n",
       "  <thead>\n",
       "    <tr style=\"text-align: right;\">\n",
       "      <th></th>\n",
       "      <th>title</th>\n",
       "      <th>kmeans_cluster</th>\n",
       "      <th>popularity</th>\n",
       "    </tr>\n",
       "  </thead>\n",
       "  <tbody>\n",
       "    <tr>\n",
       "      <th>788</th>\n",
       "      <td>Deadpool</td>\n",
       "      <td>5</td>\n",
       "      <td>514.569956</td>\n",
       "    </tr>\n",
       "    <tr>\n",
       "      <th>127</th>\n",
       "      <td>Mad Max: Fury Road</td>\n",
       "      <td>5</td>\n",
       "      <td>434.278564</td>\n",
       "    </tr>\n",
       "    <tr>\n",
       "      <th>96</th>\n",
       "      <td>Inception</td>\n",
       "      <td>5</td>\n",
       "      <td>167.583710</td>\n",
       "    </tr>\n",
       "    <tr>\n",
       "      <th>2522</th>\n",
       "      <td>The Imitation Game</td>\n",
       "      <td>5</td>\n",
       "      <td>145.364591</td>\n",
       "    </tr>\n",
       "    <tr>\n",
       "      <th>1</th>\n",
       "      <td>Pirates of the Caribbean: At World's End</td>\n",
       "      <td>5</td>\n",
       "      <td>139.082615</td>\n",
       "    </tr>\n",
       "    <tr>\n",
       "      <th>...</th>\n",
       "      <td>...</td>\n",
       "      <td>...</td>\n",
       "      <td>...</td>\n",
       "    </tr>\n",
       "    <tr>\n",
       "      <th>234</th>\n",
       "      <td>The Croods</td>\n",
       "      <td>0</td>\n",
       "      <td>64.183321</td>\n",
       "    </tr>\n",
       "    <tr>\n",
       "      <th>1847</th>\n",
       "      <td>GoodFellas</td>\n",
       "      <td>0</td>\n",
       "      <td>63.654244</td>\n",
       "    </tr>\n",
       "    <tr>\n",
       "      <th>464</th>\n",
       "      <td>Hotel Transylvania 2</td>\n",
       "      <td>0</td>\n",
       "      <td>61.692197</td>\n",
       "    </tr>\n",
       "    <tr>\n",
       "      <th>4224</th>\n",
       "      <td>Insidious</td>\n",
       "      <td>0</td>\n",
       "      <td>58.594852</td>\n",
       "    </tr>\n",
       "    <tr>\n",
       "      <th>1920</th>\n",
       "      <td>Warrior</td>\n",
       "      <td>0</td>\n",
       "      <td>51.915025</td>\n",
       "    </tr>\n",
       "  </tbody>\n",
       "</table>\n",
       "<p>102 rows × 3 columns</p>\n",
       "</div>"
      ],
      "text/plain": [
       "                                         title  kmeans_cluster  popularity\n",
       "788                                   Deadpool               5  514.569956\n",
       "127                         Mad Max: Fury Road               5  434.278564\n",
       "96                                   Inception               5  167.583710\n",
       "2522                        The Imitation Game               5  145.364591\n",
       "1     Pirates of the Caribbean: At World's End               5  139.082615\n",
       "...                                        ...             ...         ...\n",
       "234                                 The Croods               0   64.183321\n",
       "1847                                GoodFellas               0   63.654244\n",
       "464                       Hotel Transylvania 2               0   61.692197\n",
       "4224                                 Insidious               0   58.594852\n",
       "1920                                   Warrior               0   51.915025\n",
       "\n",
       "[102 rows x 3 columns]"
      ]
     },
     "execution_count": 19,
     "metadata": {},
     "output_type": "execute_result"
    }
   ],
   "source": [
    "movie_clusters = (df[['title', 'kmeans_cluster', 'popularity']]\n",
    "                  .sort_values(by=['kmeans_cluster', 'popularity'], \n",
    "                               ascending=False)\n",
    "                  .groupby('kmeans_cluster').head(20))\n",
    "#movie_clusters = movie_clusters.copy(deep=True)\n",
    "movie_clusters"
   ]
  },
  {
   "cell_type": "markdown",
   "metadata": {},
   "source": [
    "# IMP CLUSTER\n"
   ]
  },
  {
   "cell_type": "code",
   "execution_count": 22,
   "metadata": {},
   "outputs": [
    {
     "name": "stdout",
     "output_type": "stream",
     "text": [
      "CLUSTER #1\n",
      "Key Features: ['family', 'life', 'home', 'young', 'new', 'father', 'man', 'world', 'lives', 'one', 'back', 'get', 'two', 'finds', 'find']\n",
      "Popular Movies: ['Frozen', 'The Godfather', 'The Godfather: Part II', 'Furious 7', \"We're the Millers\", 'The Twilight Saga: Breaking Dawn - Part 2', 'Birdman', 'Prisoners', 'American Sniper', 'World War Z', 'The Hunger Games: Catching Fire', 'The Grand Budapest Hotel', 'Aliens', 'Southpaw', 'Dracula Untold', 'The Croods', 'GoodFellas', 'Hotel Transylvania 2', 'Insidious', 'Warrior']\n",
      "--------------------------------------------------------------------------------\n",
      "CLUSTER #2\n",
      "Key Features: ['one', 'two', 'man', 'world', 'story', 'young', 'find', 'get', 'time', 'love', 'life', 'friends', 'day', 'film', 'way']\n",
      "Popular Movies: ['Dawn of the Planet of the Apes', 'Batman v Superman: Dawn of Justice', 'The Lord of the Rings: The Fellowship of the Ring', 'Brave', 'Chappie', 'Night at the Museum: Secret of the Tomb', 'Maleficent', 'Spectre', 'The Lord of the Rings: The Two Towers', \"Schindler's List\", 'Insurgent', 'Cinderella', 'The Revenant', 'Thor: The Dark World', 'Gladiator', 'The Hobbit: The Desolation of Smaug', 'Alien', 'Skyfall', 'The Bourne Legacy', 'The Adventures of Tintin']\n",
      "--------------------------------------------------------------------------------\n",
      "CLUSTER #3\n",
      "Key Features: ['new', 'york', 'new york', 'city', 'york city', 'one', 'world', 'life', 'young', 'two', 'love', 'man', 'get', 'years', 'back']\n",
      "Popular Movies: ['Teenage Mutant Ninja Turtles', 'Pixels', 'The Dark Knight Rises', 'How to Train Your Dragon 2', '12 Years a Slave', 'The Wolf of Wall Street', 'The Amazing Spider-Man 2', 'The Devil Wears Prada', 'Non-Stop', 'Home Alone 2: Lost in New York', 'Captain America: The Winter Soldier', 'I Am Legend', 'Mission: Impossible III', 'King Kong', 'The Expendables 3', 'Fantastic 4: Rise of the Silver Surfer', 'The Godfather: Part III', 'Taxi Driver', 'Beetlejuice', 'The Chronicles of Narnia: Prince Caspian']\n",
      "--------------------------------------------------------------------------------\n",
      "CLUSTER #4\n",
      "Key Features: ['new', 'life', 'san', 'tries', 'san francisco', 'francisco', 'inside', 'become', 'new life', 'daughter', 'star', 'struggles', 'sisters', 'starts', 'control']\n",
      "Popular Movies: ['Inside Out', 'Sparkle']\n",
      "--------------------------------------------------------------------------------\n",
      "CLUSTER #5\n",
      "Key Features: ['world', 'young', 'story', 'man', 'love', 'two', 'find', 'must', 'new', 'get', 'time', 'back', 'war', 'years', 'friends']\n",
      "Popular Movies: ['Minions', 'Interstellar', 'Guardians of the Galaxy', 'Jurassic World', 'Pirates of the Caribbean: The Curse of the Black Pearl', 'The Hunger Games: Mockingjay - Part 1', 'Big Hero 6', 'Terminator Genisys', 'Captain America: Civil War', 'Whiplash', 'The Dark Knight', 'The Martian', 'Avatar', 'Fight Club', \"Pirates of the Caribbean: Dead Man's Chest\", 'The Avengers', 'Gone Girl', 'Fury', 'X-Men: Apocalypse', 'Rise of the Planet of the Apes']\n",
      "--------------------------------------------------------------------------------\n",
      "CLUSTER #6\n",
      "Key Features: ['life', 'love', 'story', 'man', 'young', 'new', 'two', 'world', 'one', 'years', 'back', 'finds', 'time', 'find', 'woman']\n",
      "Popular Movies: ['Deadpool', 'Mad Max: Fury Road', 'Inception', 'The Imitation Game', \"Pirates of the Caribbean: At World's End\", 'Forrest Gump', 'The Shawshank Redemption', 'Harry Potter and the Chamber of Secrets', 'Twilight', 'Batman Begins', \"Harry Potter and the Philosopher's Stone\", 'Bruce Almighty', 'The Hobbit: An Unexpected Journey', 'The Twilight Saga: Eclipse', 'Titanic', 'Fifty Shades of Grey', 'Blade Runner', 'Psycho', 'Up', 'The Lion King']\n",
      "--------------------------------------------------------------------------------\n"
     ]
    }
   ],
   "source": [
    "feature_names = cv.get_feature_names_out()\n",
    "topn_features = 15\n",
    "ordered_centroids = km1.cluster_centers_.argsort()[:, ::-1]\n",
    "\n",
    "# get key features for each cluster\n",
    "# get movies belonging to each cluster\n",
    "for cluster_num in range(NUM_CLUSTERS):\n",
    "    key_features = [feature_names[index] \n",
    "                        for index in ordered_centroids[cluster_num, :topn_features]]\n",
    "    movies = movie_clusters[movie_clusters['kmeans_cluster'] == cluster_num]['title'].values.tolist()\n",
    "    print('CLUSTER #'+str(cluster_num+1))\n",
    "    print('Key Features:', key_features)\n",
    "    print('Popular Movies:', movies)\n",
    "    print('-'*80)"
   ]
  },
  {
   "cell_type": "markdown",
   "metadata": {},
   "source": [
    "feature_names = cv.get_feature_names_out(): Retrieves the feature names (terms or n-grams) from the CountVectorizer object cv.\n",
    "\n",
    "topn_features = 15: Defines the number of top features to consider for each cluster.\n",
    "\n",
    "ordered_centroids = km1.cluster_centers_.argsort()[:, ::-1]: Orders the cluster centroids by their feature values, arranging them in descending order.\n",
    "\n",
    "for cluster_num in range(NUM_CLUSTERS):: Iterates through each cluster.\n",
    "\n",
    "key_features = [feature_names[index] for index in ordered_centroids[cluster_num, :topn_features]]: Retrieves the top topn_features key features for the current cluster by mapping the indices to their corresponding feature names.\n",
    "\n",
    "movies = movie_clusters[movie_clusters['kmeans_cluster'] == cluster_num]['title'].values.tolist(): Retrieves the titles of movies belonging to the current cluster from a DataFrame movie_clusters based on their assigned cluster label.\n",
    "\n",
    "print('CLUSTER #'+str(cluster_num+1)): Prints the cluster number.\n",
    "\n",
    "print('Key Features:', key_features): Prints the key features associated with the current cluster.\n",
    "\n",
    "print('Popular Movies:', movies): Prints the titles of popular movies belonging to the current cluster.\n",
    "\n",
    "print('-'*80): Prints a separator line for better readability."
   ]
  },
  {
   "cell_type": "code",
   "execution_count": 23,
   "metadata": {},
   "outputs": [],
   "source": [
    "css = [] \n",
    "for i in range(2, 8): \n",
    "    kmeans = KMeans(n_clusters=i, max_iter=100, n_init=10, random_state=42).fit(cv_matrix)\n",
    "    css.append(kmeans.inertia_)"
   ]
  },
  {
   "cell_type": "code",
   "execution_count": 24,
   "metadata": {},
   "outputs": [
    {
     "data": {
      "text/plain": [
       "[105157.75519855901,\n",
       " 104266.0573643303,\n",
       " 103882.161080703,\n",
       " 103142.19708516239,\n",
       " 103195.58141639132,\n",
       " 102614.74526305756]"
      ]
     },
     "execution_count": 24,
     "metadata": {},
     "output_type": "execute_result"
    }
   ],
   "source": [
    "css"
   ]
  },
  {
   "cell_type": "markdown",
   "metadata": {},
   "source": [
    "# Elbow"
   ]
  },
  {
   "cell_type": "code",
   "execution_count": 25,
   "metadata": {},
   "outputs": [
    {
     "data": {
      "image/png": "[encoded data removed]",
      "text/plain": [
       "<Figure size 640x480 with 1 Axes>"
      ]
     },
     "metadata": {},
     "output_type": "display_data"
    }
   ],
   "source": [
    "import matplotlib.pyplot as plt\n",
    "plt.plot(range(2, 8), css)\n",
    "plt.xlabel('Number of clusters')\n",
    "plt.ylabel('CSS') \n",
    "plt.show()"
   ]
  },
  {
   "cell_type": "markdown",
   "metadata": {},
   "source": [
    "We observe some most spoken Key Features are common between clusters. We can see that the elbow effect starts from K=5. Let us build a model for K=5."
   ]
  },
  {
   "cell_type": "code",
   "execution_count": 27,
   "metadata": {},
   "outputs": [
    {
     "name": "stdout",
     "output_type": "stream",
     "text": [
      "CLUSTER #1\n",
      "Key Features: ['new', 'york', 'new york', 'city', 'york city', 'one', 'world', 'life', 'young', 'family', 'man', 'get', 'love', 'two', 'years']\n",
      "Popular Movies: ['Teenage Mutant Ninja Turtles', 'Pixels', 'The Dark Knight Rises', 'The Godfather: Part II', 'How to Train Your Dragon 2', '12 Years a Slave', 'The Wolf of Wall Street', 'The Amazing Spider-Man 2', 'The Devil Wears Prada', 'Non-Stop', 'Home Alone 2: Lost in New York', 'Captain America: The Winter Soldier', 'I Am Legend', 'Mission: Impossible III', 'King Kong', 'The Expendables 3', 'Fantastic 4: Rise of the Silver Surfer', 'The Godfather: Part III', 'Taxi Driver', 'Beetlejuice']\n",
      "--------------------------------------------------------------------------------\n",
      "CLUSTER #2\n",
      "Key Features: ['two', 'one', 'love', 'young', 'story', 'get', 'men', 'find', 'years', 'world', 'life', 'together', 'must', 'man', 'new']\n",
      "Popular Movies: ['Captain America: Civil War', 'X-Men: Days of Future Past', 'Men in Black', 'Aladdin', 'Thor', 'Se7en', 'The Prestige', 'American History X', \"Let's Be Cops\", 'Elysium', 'How to Train Your Dragon', 'Troy', 'A Good Day to Die Hard', 'Home', 'Warcraft', \"The Huntsman: Winter's War\", 'Everest', 'Transcendence', 'Zombieland', 'Kung Fu Panda 3']\n",
      "--------------------------------------------------------------------------------\n",
      "CLUSTER #3\n",
      "Key Features: ['one', 'man', 'story', 'find', 'young', 'world', 'time', 'love', 'get', 'family', 'film', 'friends', 'three', 'day', 'new']\n",
      "Popular Movies: ['Dawn of the Planet of the Apes', 'Batman v Superman: Dawn of Justice', 'The Lord of the Rings: The Fellowship of the Ring', 'Brave', 'Chappie', 'Night at the Museum: Secret of the Tomb', 'Maleficent', 'Spectre', 'The Lord of the Rings: The Two Towers', 'Insurgent', 'Cinderella', 'The Revenant', 'Thor: The Dark World', 'Gladiator', 'The Hobbit: The Desolation of Smaug', 'Alien', 'Skyfall', 'The Bourne Legacy', 'The Adventures of Tintin', 'American Sniper']\n",
      "--------------------------------------------------------------------------------\n",
      "CLUSTER #4\n",
      "Key Features: ['life', 'love', 'man', 'family', 'story', 'young', 'new', 'one', 'world', 'back', 'finds', 'years', 'time', 'hes', 'woman']\n",
      "Popular Movies: ['Deadpool', 'Mad Max: Fury Road', 'Inception', 'The Imitation Game', 'The Godfather', \"Pirates of the Caribbean: At World's End\", 'Forrest Gump', 'The Shawshank Redemption', 'Harry Potter and the Chamber of Secrets', 'Inside Out', 'Twilight', 'Batman Begins', \"Harry Potter and the Philosopher's Stone\", 'Bruce Almighty', 'The Hobbit: An Unexpected Journey', 'The Twilight Saga: Eclipse', \"Schindler's List\", 'Titanic', 'Fifty Shades of Grey', 'Blade Runner']\n",
      "--------------------------------------------------------------------------------\n",
      "CLUSTER #5\n",
      "Key Features: ['world', 'young', 'man', 'story', 'family', 'love', 'find', 'new', 'must', 'get', 'time', 'back', 'war', 'finds', 'friends']\n",
      "Popular Movies: ['Minions', 'Interstellar', 'Guardians of the Galaxy', 'Jurassic World', 'Pirates of the Caribbean: The Curse of the Black Pearl', 'The Hunger Games: Mockingjay - Part 1', 'Big Hero 6', 'Terminator Genisys', 'Whiplash', 'The Dark Knight', 'The Martian', 'Frozen', 'Avatar', 'Fight Club', \"Pirates of the Caribbean: Dead Man's Chest\", 'The Avengers', 'Gone Girl', 'Fury', 'X-Men: Apocalypse', 'Rise of the Planet of the Apes']\n",
      "--------------------------------------------------------------------------------\n"
     ]
    }
   ],
   "source": [
    "NUM_CLUSTERS = 5\n",
    "km2 = KMeans(n_clusters=NUM_CLUSTERS, max_iter=100, n_init=15, random_state=42).fit(cv_matrix)\n",
    "# Adding Cluster levels in the original dataframe \n",
    "df['kmeans_cluster'] = km2.labels_\n",
    "\n",
    "movie_clusters = (df[['title', 'kmeans_cluster', 'popularity']]\n",
    "                  .sort_values(by=['kmeans_cluster', 'popularity'], \n",
    "                               ascending=False)\n",
    "                  .groupby('kmeans_cluster').head(20))\n",
    "\n",
    "feature_names = cv.get_feature_names_out()\n",
    "topn_features = 15\n",
    "ordered_centroids = km2.cluster_centers_.argsort()[:, ::-1]\n",
    "\n",
    "# get key features for each cluster\n",
    "# get movies belonging to each cluster\n",
    "for cluster_num in range(NUM_CLUSTERS):\n",
    "    key_features = [feature_names[index] \n",
    "                        for index in ordered_centroids[cluster_num, :topn_features]]\n",
    "    movies = movie_clusters[movie_clusters['kmeans_cluster'] == cluster_num]['title'].values.tolist()\n",
    "    print('CLUSTER #'+str(cluster_num+1))\n",
    "    print('Key Features:', key_features)\n",
    "    print('Popular Movies:', movies)\n",
    "    print('-'*80)"
   ]
  },
  {
   "cell_type": "markdown",
   "metadata": {},
   "source": [
    "NUM_CLUSTERS = 5: Specifies the number of clusters to create.\n",
    "\n",
    "km2 = KMeans(n_clusters=NUM_CLUSTERS, max_iter=100, n_init=15, random_state=42).fit(cv_matrix): Initializes and fits a KMeans clustering model with 5 clusters using the document-term matrix cv_matrix.\n",
    "\n",
    "df['kmeans_cluster'] = km2.labels_: Adds the cluster labels assigned by KMeans to the original DataFrame df.\n",
    "\n",
    "movie_clusters = (df[['title', 'kmeans_cluster', 'popularity']] ...: Selects columns 'title', 'kmeans_cluster', and 'popularity' from df, sorts the rows by cluster and popularity, selects the top 20 popular movies for each cluster, and stores them in movie_clusters.\n",
    "\n",
    "feature_names = cv.get_feature_names_out(): Retrieves the feature names from the CountVectorizer object.\n",
    "\n",
    "topn_features = 15: Sets the number of top features to consider for each cluster.\n",
    "\n",
    "ordered_centroids = km2.cluster_centers_.argsort()[:, ::-1]: Orders the cluster centroids by their feature values in descending order.\n",
    "\n",
    "for cluster_num in range(NUM_CLUSTERS):: Iterates over each cluster.\n",
    "\n",
    "key_features = [feature_names[index] ...: Retrieves the top topn_features key features for the current cluster based on the ordered centroids.\n",
    "\n",
    "movies = movie_clusters[movie_clusters['kmeans_cluster'] == cluster_num]['title'].values.tolist(): Retrieves the titles of popular movies belonging to the current cluster.\n",
    "\n",
    "Prints the cluster number, key features, and popular movies for each cluster."
   ]
  },
  {
   "cell_type": "markdown",
   "metadata": {},
   "source": [
    "There are still some common key features. Let us build a model for K=4."
   ]
  },
  {
   "cell_type": "code",
   "execution_count": 28,
   "metadata": {},
   "outputs": [
    {
     "name": "stdout",
     "output_type": "stream",
     "text": [
      "CLUSTER #1\n",
      "Key Features: ['one', 'world', 'young', 'two', 'story', 'man', 'love', 'find', 'must', 'get', 'time', 'new', 'war', 'friends', 'back', 'years', 'way', 'film', 'help', 'take']\n",
      "Popular Movies: ['Minions', 'Interstellar', 'Guardians of the Galaxy', 'Jurassic World', 'Pirates of the Caribbean: The Curse of the Black Pearl', 'Dawn of the Planet of the Apes', 'The Hunger Games: Mockingjay - Part 1', 'Big Hero 6', 'Terminator Genisys', 'Captain America: Civil War', 'Whiplash', 'The Dark Knight', 'The Martian', 'Batman v Superman: Dawn of Justice', 'Avatar', 'Fight Club', \"Pirates of the Caribbean: Dead Man's Chest\", 'The Avengers', 'Gone Girl', 'Fury']\n",
      "--------------------------------------------------------------------------------\n",
      "CLUSTER #2\n",
      "Key Features: ['life', 'love', 'one', 'man', 'story', 'young', 'new', 'two', 'world', 'back', 'find', 'time', 'years', 'finds', 'way', 'hes', 'woman', 'must', 'get', 'death']\n",
      "Popular Movies: ['Deadpool', 'Mad Max: Fury Road', 'Inception', 'The Imitation Game', \"Pirates of the Caribbean: At World's End\", 'Forrest Gump', 'The Shawshank Redemption', 'Harry Potter and the Chamber of Secrets', 'Inside Out', 'Twilight', 'Batman Begins', 'Maleficent', \"Harry Potter and the Philosopher's Stone\", 'Bruce Almighty', 'The Hobbit: An Unexpected Journey', 'The Twilight Saga: Eclipse', \"Schindler's List\", 'Titanic', 'Fifty Shades of Grey', 'Blade Runner']\n",
      "--------------------------------------------------------------------------------\n",
      "CLUSTER #3\n",
      "Key Features: ['family', 'one', 'life', 'home', 'young', 'new', 'father', 'man', 'two', 'get', 'lives', 'world', 'back', 'finds', 'story', 'find', 'friends', 'son', 'love', 'help']\n",
      "Popular Movies: ['Frozen', 'The Godfather', 'The Godfather: Part II', 'Furious 7', \"We're the Millers\", 'The Twilight Saga: Breaking Dawn - Part 2', 'Gladiator', 'Birdman', 'Prisoners', 'American Sniper', 'World War Z', 'The Hunger Games: Catching Fire', 'Run All Night', 'The Grand Budapest Hotel', 'Aliens', 'Southpaw', 'Dracula Untold', 'The Croods', 'GoodFellas', 'Warcraft']\n",
      "--------------------------------------------------------------------------------\n",
      "CLUSTER #4\n",
      "Key Features: ['new', 'york', 'new york', 'city', 'one', 'york city', 'world', 'young', 'two', 'love', 'life', 'man', 'years', 'get', 'find', 'back', 'friends', 'family', 'must', 'hes']\n",
      "Popular Movies: ['Teenage Mutant Ninja Turtles', 'Pixels', 'The Dark Knight Rises', 'How to Train Your Dragon 2', '12 Years a Slave', 'The Wolf of Wall Street', 'The Amazing Spider-Man 2', 'The Devil Wears Prada', 'Non-Stop', 'Home Alone 2: Lost in New York', 'Captain America: The Winter Soldier', 'I Am Legend', 'Mission: Impossible III', 'King Kong', 'The Expendables 3', 'Fantastic 4: Rise of the Silver Surfer', 'The Godfather: Part III', 'Taxi Driver', 'Beetlejuice', 'The Chronicles of Narnia: Prince Caspian']\n",
      "--------------------------------------------------------------------------------\n"
     ]
    }
   ],
   "source": [
    "NUM_CLUSTERS = 4\n",
    "km2 = KMeans(n_clusters=NUM_CLUSTERS, max_iter=100, n_init=15, random_state=42).fit(cv_matrix)\n",
    "# Adding Cluster levels in the original dataframe \n",
    "df['kmeans_cluster'] = km2.labels_\n",
    "\n",
    "movie_clusters = (df[['title', 'kmeans_cluster', 'popularity']]\n",
    "                  .sort_values(by=['kmeans_cluster', 'popularity'], \n",
    "                               ascending=False)\n",
    "                  .groupby('kmeans_cluster').head(20))\n",
    "\n",
    "feature_names = cv.get_feature_names_out()\n",
    "topn_features = 20\n",
    "ordered_centroids = km2.cluster_centers_.argsort()[:, ::-1]\n",
    "\n",
    "# get key features for each cluster\n",
    "# get movies belonging to each cluster\n",
    "for cluster_num in range(NUM_CLUSTERS):\n",
    "    key_features = [feature_names[index] \n",
    "                        for index in ordered_centroids[cluster_num, :topn_features]]\n",
    "    movies = movie_clusters[movie_clusters['kmeans_cluster'] == cluster_num]['title'].values.tolist()\n",
    "    print('CLUSTER #'+str(cluster_num+1))\n",
    "    print('Key Features:', key_features)\n",
    "    print('Popular Movies:', movies)\n",
    "    print('-'*80)"
   ]
  },
  {
   "cell_type": "markdown",
   "metadata": {},
   "source": [
    "You can name the four clusters according to your understanding. \n",
    "The four cluster may be named in this case as:\n",
    "    \n",
    "1) Exploration related movies \n",
    "2) Life-philogophy related movies \n",
    "3) War related movies \n",
    "4) 'new york' based movies "
   ]
  },
  {
   "cell_type": "markdown",
   "metadata": {},
   "source": [
    "### Use TF-IDF vectorizer for clustering "
   ]
  },
  {
   "cell_type": "code",
   "execution_count": null,
   "metadata": {},
   "outputs": [],
   "source": []
  },
  {
   "cell_type": "code",
   "execution_count": null,
   "metadata": {},
   "outputs": [],
   "source": []
  }
 ],
 "metadata": {
  "kernelspec": {
   "display_name": "Python 3 (ipykernel)",
   "language": "python",
   "name": "python3"
  },
  "language_info": {
   "codemirror_mode": {
    "name": "ipython",
    "version": 3
   },
   "file_extension": ".py",
   "mimetype": "text/x-python",
   "name": "python",
   "nbconvert_exporter": "python",
   "pygments_lexer": "ipython3",
   "version": "3.11.3"
  }
 },
 "nbformat": 4,
 "nbformat_minor": 4
}
